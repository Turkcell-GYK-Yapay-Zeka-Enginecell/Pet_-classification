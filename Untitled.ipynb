{
 "cells": [
  {
   "cell_type": "code",
   "execution_count": 27,
   "id": "c28d9e8a-ca2e-4275-b30c-ac60880008e6",
   "metadata": {},
   "outputs": [
    {
     "name": "stdout",
     "output_type": "stream",
     "text": [
      "Epoch 1/5\n",
      "\u001b[1m92/92\u001b[0m \u001b[32m━━━━━━━━━━━━━━━━━━━━\u001b[0m\u001b[37m\u001b[0m \u001b[1m68s\u001b[0m 705ms/step - accuracy: 0.3546 - loss: 2.4462 - val_accuracy: 0.8465 - val_loss: 0.5407\n",
      "Epoch 2/5\n",
      "\u001b[1m92/92\u001b[0m \u001b[32m━━━━━━━━━━━━━━━━━━━━\u001b[0m\u001b[37m\u001b[0m \u001b[1m61s\u001b[0m 660ms/step - accuracy: 0.8303 - loss: 0.5438 - val_accuracy: 0.8750 - val_loss: 0.3982\n",
      "Epoch 3/5\n",
      "\u001b[1m92/92\u001b[0m \u001b[32m━━━━━━━━━━━━━━━━━━━━\u001b[0m\u001b[37m\u001b[0m \u001b[1m61s\u001b[0m 667ms/step - accuracy: 0.8943 - loss: 0.3502 - val_accuracy: 0.8696 - val_loss: 0.3918\n",
      "Epoch 4/5\n",
      "\u001b[1m92/92\u001b[0m \u001b[32m━━━━━━━━━━━━━━━━━━━━\u001b[0m\u001b[37m\u001b[0m \u001b[1m59s\u001b[0m 643ms/step - accuracy: 0.9210 - loss: 0.2603 - val_accuracy: 0.8804 - val_loss: 0.3570\n",
      "Epoch 5/5\n",
      "\u001b[1m92/92\u001b[0m \u001b[32m━━━━━━━━━━━━━━━━━━━━\u001b[0m\u001b[37m\u001b[0m \u001b[1m60s\u001b[0m 658ms/step - accuracy: 0.9458 - loss: 0.1962 - val_accuracy: 0.8546 - val_loss: 0.4014\n"
     ]
    },
    {
     "name": "stderr",
     "output_type": "stream",
     "text": [
      "WARNING:absl:You are saving your model as an HDF5 file via `model.save()` or `keras.saving.save_model(model)`. This file format is considered legacy. We recommend using instead the native Keras format, e.g. `model.save('my_model.keras')` or `keras.saving.save_model(model, 'my_model.keras')`. \n"
     ]
    }
   ],
   "source": [
    "import tensorflow as tf\n",
    "import tensorflow_datasets as tfds\n",
    "\n",
    "# Oxford-IIIT Pet veri setini yükle\n",
    "(train_ds, test_ds), ds_info = tfds.load(\n",
    "    'oxford_iiit_pet',\n",
    "    split=['train[:80%]', 'train[80%:]'],\n",
    "    shuffle_files=True,\n",
    "    as_supervised=True,\n",
    "    with_info=True\n",
    ")\n",
    "\n",
    "NUM_CLASSES = ds_info.features['label'].num_classes\n",
    "CLASS_NAMES = ds_info.features['label'].names  \n",
    "\n",
    "IMG_SIZE = 224\n",
    "BATCH_SIZE = 32\n",
    "AUTOTUNE = tf.data.AUTOTUNE\n",
    "\n",
    "def preprocess(img, label):\n",
    "    img = tf.image.resize(img, (IMG_SIZE, IMG_SIZE))\n",
    "    img = tf.cast(img, tf.float32) / 255.0\n",
    "    return img, label\n",
    "\n",
    "# Verileri hazırla\n",
    "train_ds = train_ds.map(preprocess, num_parallel_calls=AUTOTUNE).batch(BATCH_SIZE).prefetch(AUTOTUNE)\n",
    "test_ds = test_ds.map(preprocess, num_parallel_calls=AUTOTUNE).batch(BATCH_SIZE).prefetch(AUTOTUNE)\n",
    "\n",
    "# Modeli oluştur (Transfer Learning ile)\n",
    "base_model = tf.keras.applications.MobileNetV2(\n",
    "    input_shape=(IMG_SIZE, IMG_SIZE, 3),\n",
    "    include_top=False,\n",
    "    weights='imagenet'\n",
    ")\n",
    "base_model.trainable = False\n",
    "\n",
    "model = tf.keras.Sequential([\n",
    "    base_model,\n",
    "    tf.keras.layers.GlobalAveragePooling2D(),\n",
    "    tf.keras.layers.Dense(128, activation='relu'),\n",
    "    tf.keras.layers.Dropout(0.3),\n",
    "    tf.keras.layers.Dense(NUM_CLASSES, activation='softmax')\n",
    "])\n",
    "\n",
    "model.compile(optimizer=\"adam\", loss=\"sparse_categorical_crossentropy\", metrics=[\"accuracy\"])\n",
    "model.fit(train_ds, epochs=5, validation_data=test_ds)\n",
    "model.save(\"pet_classifier.h5\")\n",
    "\n",
    "# CLASS_NAMES bilgisini kaydet \n",
    "import json\n",
    "with open(\"class_names.json\", \"w\") as f:\n",
    "    json.dump(CLASS_NAMES, f)\n"
   ]
  },
  {
   "cell_type": "code",
   "execution_count": 29,
   "id": "bf5ddfa9-eeac-401a-b928-72bfb86abfcc",
   "metadata": {},
   "outputs": [
    {
     "name": "stderr",
     "output_type": "stream",
     "text": [
      "WARNING:absl:Compiled the loaded model, but the compiled metrics have yet to be built. `model.compile_metrics` will be empty until you train or evaluate the model.\n"
     ]
    }
   ],
   "source": [
    "from fastapi import FastAPI, File, UploadFile\n",
    "from keras.models import load_model\n",
    "from PIL import Image\n",
    "import numpy as np\n",
    "import io\n",
    "import json\n",
    "\n",
    "app = FastAPI()\n",
    "model = load_model(\"pet_classifier.h5\")\n",
    "\n",
    "# Sınıf isimlerini dosyadan yükle\n",
    "with open(\"class_names.json\", \"r\") as f:\n",
    "    class_names = json.load(f)\n",
    "\n",
    "def preprocess_image(image_bytes):\n",
    "    img = Image.open(io.BytesIO(image_bytes)).convert(\"RGB\")\n",
    "    img = img.resize((224, 224))\n",
    "    arr = np.array(img) / 255.0\n",
    "    arr = np.expand_dims(arr, 0)\n",
    "    return arr\n",
    "\n",
    "@app.post(\"/predict/\")\n",
    "async def predict(file: UploadFile = File(...)):\n",
    "    image_bytes = await file.read()\n",
    "    arr = preprocess_image(image_bytes)\n",
    "    preds = model.predict(arr)\n",
    "    class_idx = int(np.argmax(preds[0]))\n",
    "    prob = float(preds[0][class_idx])\n",
    "    if prob > 0.5:\n",
    "        return {\"class\": class_names[class_idx], \"probability\": prob}\n",
    "    else:\n",
    "        return {\"error\": \"Bulunamadı - sınıfa atama yapılamadı\"}\n"
   ]
  },
  {
   "cell_type": "code",
   "execution_count": 31,
   "id": "befa28b3-ecf7-4e09-b007-9deb2cde9b20",
   "metadata": {},
   "outputs": [
    {
     "name": "stderr",
     "output_type": "stream",
     "text": [
      "WARNING:absl:Compiled the loaded model, but the compiled metrics have yet to be built. `model.compile_metrics` will be empty until you train or evaluate the model.\n",
      "2025-07-23 15:05:18.039 Thread 'MainThread': missing ScriptRunContext! This warning can be ignored when running in bare mode.\n",
      "2025-07-23 15:05:18.040 Thread 'MainThread': missing ScriptRunContext! This warning can be ignored when running in bare mode.\n",
      "2025-07-23 15:05:18.040 Thread 'MainThread': missing ScriptRunContext! This warning can be ignored when running in bare mode.\n",
      "2025-07-23 15:05:18.041 Thread 'MainThread': missing ScriptRunContext! This warning can be ignored when running in bare mode.\n",
      "2025-07-23 15:05:18.041 Thread 'MainThread': missing ScriptRunContext! This warning can be ignored when running in bare mode.\n",
      "2025-07-23 15:05:18.041 Thread 'MainThread': missing ScriptRunContext! This warning can be ignored when running in bare mode.\n",
      "2025-07-23 15:05:18.042 Thread 'MainThread': missing ScriptRunContext! This warning can be ignored when running in bare mode.\n",
      "2025-07-23 15:05:18.042 Thread 'MainThread': missing ScriptRunContext! This warning can be ignored when running in bare mode.\n",
      "2025-07-23 15:05:18.042 Thread 'MainThread': missing ScriptRunContext! This warning can be ignored when running in bare mode.\n"
     ]
    }
   ],
   "source": [
    "import streamlit as st\n",
    "from keras.models import load_model\n",
    "from PIL import Image\n",
    "import numpy as np\n",
    "import json\n",
    "\n",
    "# Model ve class_names'i yükle\n",
    "model = load_model(\"pet_classifier.h5\")\n",
    "with open(\"class_names.json\", \"r\") as f:\n",
    "    class_names = json.load(f)\n",
    "\n",
    "st.title(\"Pet Sınıflandırıcı\")\n",
    "img_file = st.file_uploader(\"Resim Yükle\", type=[\"jpg\", \"jpeg\", \"png\"])\n",
    "\n",
    "if img_file:\n",
    "    img = Image.open(img_file).convert(\"RGB\")\n",
    "    arr = np.array(img.resize((224, 224))) / 255.0\n",
    "    arr = np.expand_dims(arr, 0)\n",
    "    preds = model.predict(arr)\n",
    "    class_idx = int(np.argmax(preds[0]))\n",
    "    prob = float(preds[0][class_idx])\n",
    "    if prob > 0.5:\n",
    "        st.write(f\"Tahmini Sınıf: {class_names[class_idx]} - Olasılık: {prob:.2f}\")\n",
    "    else:\n",
    "        st.write(\"Bulunamadı - sınıfa atama yapılamadı.\")\n",
    "    st.image(img)\n"
   ]
  },
  {
   "cell_type": "code",
   "execution_count": null,
   "id": "a1a34e4f-146c-4a59-9578-c1323e2ebac5",
   "metadata": {},
   "outputs": [],
   "source": []
  },
  {
   "cell_type": "code",
   "execution_count": null,
   "id": "c192cb2f-e4ba-458c-80d5-abb898dcb0d2",
   "metadata": {},
   "outputs": [],
   "source": []
  }
 ],
 "metadata": {
  "kernelspec": {
   "display_name": "new (Python 3.11.12)",
   "language": "python",
   "name": "new"
  },
  "language_info": {
   "codemirror_mode": {
    "name": "ipython",
    "version": 3
   },
   "file_extension": ".py",
   "mimetype": "text/x-python",
   "name": "python",
   "nbconvert_exporter": "python",
   "pygments_lexer": "ipython3",
   "version": "3.12.11"
  }
 },
 "nbformat": 4,
 "nbformat_minor": 5
}
